{
 "cells": [
  {
   "cell_type": "markdown",
   "id": "517ca5b1-3679-4aff-be0d-66127cb7c834",
   "metadata": {},
   "source": [
    "## Homework\n",
    "\n",
    "> Note: sometimes your answer doesn't match one of the options exactly. \n",
    "> That's fine. \n",
    "> Select the option that's closest to your solution.\n",
    "\n",
    "\n",
    "### Dataset\n",
    "\n",
    "In this homework, we will use the Bank Marketing dataset. Download it from [here](https://archive.ics.uci.edu/static/public/222/bank+marketing.zip).\n",
    "\n",
    "Or you can do it with `wget`:\n",
    "\n",
    "```bash\n",
    "wget https://archive.ics.uci.edu/static/public/222/bank+marketing.zip\n",
    "```\n",
    "\n",
    "We need to take `bank/bank-full.csv` file from the downloaded zip-file.  \n",
    "In this dataset our desired target for classification task will be `y` variable - has the client subscribed a term deposit or not. \n",
    "\n",
    "### Features\n",
    "\n",
    "For the rest of the homework, you'll need to use only these columns:\n",
    "\n",
    "* `age`,\n",
    "* `job`,\n",
    "* `marital`,\n",
    "* `education`,\n",
    "* `balance`,\n",
    "* `housing`,\n",
    "* `contact`,\n",
    "* `day`,\n",
    "* `month`,\n",
    "* `duration`,\n",
    "* `campaign`,\n",
    "* `pdays`,\n",
    "* `previous`,\n",
    "* `poutcome`,\n",
    "* `y`\n",
    "\n",
    "### Data preparation\n",
    "\n",
    "* Select only the features from above.\n",
    "* Check if the missing values are presented in the features.\n",
    "\n",
    "### Question 1\n",
    "\n",
    "What is the most frequent observation (mode) for the column `education`?\n",
    "\n",
    "- `unknown`\n",
    "- `primary`\n",
    "- `secondary`\n",
    "- `tertiary`"
   ]
  },
  {
   "cell_type": "code",
   "execution_count": null,
   "id": "24991d08-6db5-412a-93ab-33eb09d3deb3",
   "metadata": {},
   "outputs": [],
   "source": []
  },
  {
   "cell_type": "markdown",
   "id": "43dd3717-9c4d-41e8-bb0e-09aa9baf2cb1",
   "metadata": {},
   "source": [
    "### Question 2\n",
    "\n",
    "Create the [correlation matrix](https://www.google.com/search?q=correlation+matrix) for the numerical features of your dataset. \n",
    "In a correlation matrix, you compute the correlation coefficient between every pair of features.\n",
    "\n",
    "What are the two features that have the biggest correlation?\n",
    "\n",
    "- `age` and `balance`\n",
    "- `day` and `campaign`\n",
    "- `day` and `pdays`\n",
    "- `pdays` and `previous`"
   ]
  },
  {
   "cell_type": "code",
   "execution_count": null,
   "id": "5a2d5079-51a6-41c6-8ed5-d527320ffb73",
   "metadata": {},
   "outputs": [],
   "source": []
  },
  {
   "cell_type": "markdown",
   "id": "4e408fa1-de08-48cc-8dc4-3bf7b410886a",
   "metadata": {},
   "source": [
    "### Target encoding\n",
    "\n",
    "* Now we want to encode the `y` variable.\n",
    "* Let's replace the values `yes`/`no` with `1`/`0`.\n",
    "\n",
    "### Split the data\n",
    "\n",
    "* Split your data in train/val/test sets with 60%/20%/20% distribution.\n",
    "* Use Scikit-Learn for that (the `train_test_split` function) and set the seed to `42`.\n",
    "* Make sure that the target value `y` is not in your dataframe."
   ]
  },
  {
   "cell_type": "code",
   "execution_count": null,
   "id": "7bd2f9bb-b855-4191-9df0-be5f5bfb81ed",
   "metadata": {},
   "outputs": [],
   "source": []
  },
  {
   "cell_type": "markdown",
   "id": "8e7341d5-0d60-4a02-ac82-bbdc4eefeca7",
   "metadata": {},
   "source": [
    "### Question 3\n",
    "\n",
    "* Calculate the mutual information score between `y` and other categorical variables in the dataset. Use the training set only.\n",
    "* Round the scores to 2 decimals using `round(score, 2)`.\n",
    "\n",
    "Which of these variables has the biggest mutual information score?\n",
    "  \n",
    "- `contact`\n",
    "- `education`\n",
    "- `housing`\n",
    "- `poutcome`"
   ]
  },
  {
   "cell_type": "code",
   "execution_count": null,
   "id": "1f31f808-554a-45e5-968b-ede19ebd2f09",
   "metadata": {},
   "outputs": [],
   "source": []
  },
  {
   "cell_type": "markdown",
   "id": "5a7a2f88-df38-4cd1-aa38-72d46c52dfa1",
   "metadata": {},
   "source": [
    "### Question 4\n",
    "\n",
    "* Now let's train a logistic regression.\n",
    "* Remember that we have several categorical variables in the dataset. Include them using one-hot encoding.\n",
    "* Fit the model on the training dataset.\n",
    "    - To make sure the results are reproducible across different versions of Scikit-Learn, fit the model with these parameters:\n",
    "    - `model = LogisticRegression(solver='liblinear', C=1.0, max_iter=1000, random_state=42)`\n",
    "* Calculate the accuracy on the validation dataset and round it to 2 decimal digits.\n",
    "\n",
    "What accuracy did you get?\n",
    "\n",
    "- 0.6\n",
    "- 0.7\n",
    "- 0.8\n",
    "- 0.9"
   ]
  },
  {
   "cell_type": "code",
   "execution_count": null,
   "id": "372e3728-0690-48d9-a614-26e3a8731a44",
   "metadata": {},
   "outputs": [],
   "source": []
  },
  {
   "cell_type": "markdown",
   "id": "6c0b74a6-9ae8-4299-a259-d2be2e729c6c",
   "metadata": {},
   "source": [
    "### Question 5 \n",
    "\n",
    "* Let's find the least useful feature using the *feature elimination* technique.\n",
    "* Train a model with all these features (using the same parameters as in Q4).\n",
    "* Now exclude each feature from this set and train a model without it. Record the accuracy for each model.\n",
    "* For each feature, calculate the difference between the original accuracy and the accuracy without the feature. \n",
    "\n",
    "Which of following feature has the smallest difference?\n",
    "\n",
    "- `age`\n",
    "- `balance`\n",
    "- `marital`\n",
    "- `previous`"
   ]
  },
  {
   "cell_type": "code",
   "execution_count": null,
   "id": "f94ff65b-abaf-4094-8383-285b1eb1f967",
   "metadata": {},
   "outputs": [],
   "source": []
  },
  {
   "cell_type": "markdown",
   "id": "480720ec-0994-4e1e-adc1-8e87a2256b8b",
   "metadata": {},
   "source": [
    "### Question 6\n",
    "\n",
    "* Now let's train a regularized logistic regression.\n",
    "* Let's try the following values of the parameter `C`: `[0.01, 0.1, 1, 10, 100]`.\n",
    "* Train models using all the features as in Q4.\n",
    "* Calculate the accuracy on the validation dataset and round it to 3 decimal digits.\n",
    "\n",
    "Which of these `C` leads to the best accuracy on the validation set?\n",
    "\n",
    "- 0.01\n",
    "- 0.1\n",
    "- 1\n",
    "- 10\n",
    "- 100\n",
    "\n",
    "> **Note**: If there are multiple options, select the smallest `C`."
   ]
  },
  {
   "cell_type": "code",
   "execution_count": null,
   "id": "e5ffb7e2-68c4-49d2-bb2f-5255fe27894c",
   "metadata": {},
   "outputs": [],
   "source": []
  }
 ],
 "metadata": {
  "kernelspec": {
   "display_name": "Python 3 (ipykernel)",
   "language": "python",
   "name": "python3"
  },
  "language_info": {
   "codemirror_mode": {
    "name": "ipython",
    "version": 3
   },
   "file_extension": ".py",
   "mimetype": "text/x-python",
   "name": "python",
   "nbconvert_exporter": "python",
   "pygments_lexer": "ipython3",
   "version": "3.12.3"
  }
 },
 "nbformat": 4,
 "nbformat_minor": 5
}
